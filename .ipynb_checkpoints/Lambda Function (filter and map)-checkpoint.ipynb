{
 "cells": [
  {
   "cell_type": "code",
   "execution_count": 1,
   "id": "e07609a0",
   "metadata": {},
   "outputs": [],
   "source": [
    "#Lambda function\n",
    "\n"
   ]
  },
  {
   "cell_type": "code",
   "execution_count": 2,
   "id": "0aea981a",
   "metadata": {},
   "outputs": [],
   "source": [
    "g = lambda x: x*x*x\n"
   ]
  },
  {
   "cell_type": "code",
   "execution_count": 3,
   "id": "4f569287",
   "metadata": {},
   "outputs": [
    {
     "data": {
      "text/plain": [
       "729"
      ]
     },
     "execution_count": 3,
     "metadata": {},
     "output_type": "execute_result"
    }
   ],
   "source": [
    "g(9)"
   ]
  },
  {
   "cell_type": "code",
   "execution_count": 4,
   "id": "aa659a60",
   "metadata": {},
   "outputs": [
    {
     "data": {
      "text/plain": [
       "1000"
      ]
     },
     "execution_count": 4,
     "metadata": {},
     "output_type": "execute_result"
    }
   ],
   "source": [
    "g(10)"
   ]
  },
  {
   "cell_type": "code",
   "execution_count": null,
   "id": "c56f9e7a",
   "metadata": {},
   "outputs": [],
   "source": []
  },
  {
   "cell_type": "code",
   "execution_count": 6,
   "id": "ec65dc55",
   "metadata": {},
   "outputs": [],
   "source": [
    "# Write a program to write the list of odd and even number\n",
    "\n",
    "# FILTER function with lambda\n",
    "\n",
    "#1\n",
    "\n",
    "l1= [44,55,66,77,88,99,22]\n",
    "\n",
    "final_list = list(filter(lambda x: (x%2 == 0) ,l1))"
   ]
  },
  {
   "cell_type": "code",
   "execution_count": 7,
   "id": "f8c2e0d6",
   "metadata": {},
   "outputs": [
    {
     "data": {
      "text/plain": [
       "[44, 66, 88, 22]"
      ]
     },
     "execution_count": 7,
     "metadata": {},
     "output_type": "execute_result"
    }
   ],
   "source": [
    "final_list\n"
   ]
  },
  {
   "cell_type": "code",
   "execution_count": 28,
   "id": "19898409",
   "metadata": {},
   "outputs": [
    {
     "ename": "TypeError",
     "evalue": "filter expected 2 arguments, got 1",
     "output_type": "error",
     "traceback": [
      "\u001b[1;31m---------------------------------------------------------------------------\u001b[0m",
      "\u001b[1;31mTypeError\u001b[0m                                 Traceback (most recent call last)",
      "Cell \u001b[1;32mIn[28], line 3\u001b[0m\n\u001b[0;32m      1\u001b[0m l1 \u001b[38;5;241m=\u001b[39m [\u001b[38;5;241m4\u001b[39m,\u001b[38;5;241m765\u001b[39m,\u001b[38;5;241m43\u001b[39m,\u001b[38;5;241m9868\u001b[39m,\u001b[38;5;241m643\u001b[39m,\u001b[38;5;241m908\u001b[39m,\u001b[38;5;241m2\u001b[39m,\u001b[38;5;241m98\u001b[39m,\u001b[38;5;241m32\u001b[39m,\u001b[38;5;241m789\u001b[39m]\n\u001b[1;32m----> 3\u001b[0m final_list \u001b[38;5;241m=\u001b[39m \u001b[38;5;28mlist\u001b[39m(\u001b[38;5;28mfilter\u001b[39m(\u001b[38;5;28;01mlambda\u001b[39;00m x: (x\u001b[38;5;241m%\u001b[39m\u001b[38;5;241m2\u001b[39m \u001b[38;5;241m!=\u001b[39m \u001b[38;5;241m0\u001b[39m) ))\n",
      "\u001b[1;31mTypeError\u001b[0m: filter expected 2 arguments, got 1"
     ]
    }
   ],
   "source": [
    "#2\n",
    "\n",
    "l1 = [4,765,43,9868,643,908,2,98,32,789]\n",
    "\n",
    "final_list = list(filter(lambda x: (x%2 != 0) ))"
   ]
  },
  {
   "cell_type": "code",
   "execution_count": 36,
   "id": "ddc70cf7",
   "metadata": {},
   "outputs": [],
   "source": [
    "#3\n",
    "\n",
    "l1 = [4,765,43,9868,643,908,2,98,32,789]\n",
    "\n",
    "final_list = list(filter(lambda x: (x%2 != 0) ,l1))"
   ]
  },
  {
   "cell_type": "code",
   "execution_count": 37,
   "id": "3e4fe165",
   "metadata": {},
   "outputs": [
    {
     "data": {
      "text/plain": [
       "[765, 43, 643, 789]"
      ]
     },
     "execution_count": 37,
     "metadata": {},
     "output_type": "execute_result"
    }
   ],
   "source": [
    "final_list"
   ]
  },
  {
   "cell_type": "code",
   "execution_count": 38,
   "id": "33e5d438",
   "metadata": {},
   "outputs": [],
   "source": [
    "# MAP function with lambda\n",
    "\n",
    "#1\n",
    "\n",
    "l1 = [1,2,3,4,5,6,7]\n",
    "\n",
    "final_map_list = list(map(lambda x: x*2, l1))"
   ]
  },
  {
   "cell_type": "code",
   "execution_count": 39,
   "id": "9335d09e",
   "metadata": {},
   "outputs": [
    {
     "data": {
      "text/plain": [
       "[2, 4, 6, 8, 10, 12, 14]"
      ]
     },
     "execution_count": 39,
     "metadata": {},
     "output_type": "execute_result"
    }
   ],
   "source": [
    "final_map_list"
   ]
  },
  {
   "cell_type": "code",
   "execution_count": 40,
   "id": "c115aa34",
   "metadata": {},
   "outputs": [],
   "source": [
    "#2\n",
    "\n",
    "l1 = [1,2,3,4,5,6,7]\n",
    "\n",
    "final_map_list = list(map(lambda x: x/2, l1))"
   ]
  },
  {
   "cell_type": "code",
   "execution_count": 41,
   "id": "0fcf2614",
   "metadata": {},
   "outputs": [
    {
     "data": {
      "text/plain": [
       "[0.5, 1.0, 1.5, 2.0, 2.5, 3.0, 3.5]"
      ]
     },
     "execution_count": 41,
     "metadata": {},
     "output_type": "execute_result"
    }
   ],
   "source": [
    "final_map_list\n"
   ]
  },
  {
   "cell_type": "code",
   "execution_count": 42,
   "id": "91136633",
   "metadata": {},
   "outputs": [],
   "source": [
    "#3\n",
    "\n",
    "l1 = [1,2,3,4,5,6,7]\n",
    "\n",
    "final_map_list = list(map(lambda x: x%2, l1))"
   ]
  },
  {
   "cell_type": "code",
   "execution_count": 35,
   "id": "6df70171",
   "metadata": {},
   "outputs": [
    {
     "data": {
      "text/plain": [
       "[1, 0, 1, 0, 1, 0, 1]"
      ]
     },
     "execution_count": 35,
     "metadata": {},
     "output_type": "execute_result"
    }
   ],
   "source": [
    "final_map_list\n"
   ]
  },
  {
   "cell_type": "code",
   "execution_count": null,
   "id": "e85fe7ef",
   "metadata": {},
   "outputs": [],
   "source": []
  },
  {
   "cell_type": "code",
   "execution_count": 51,
   "id": "f73e369a",
   "metadata": {},
   "outputs": [],
   "source": [
    "# REDUCE function with lambda\n",
    "\n",
    "#1\n",
    "\n",
    "l1 = [1,2,3,4,5]\n",
    "\n",
    "from functools import reduce\n",
    "\n",
    "sum = reduce(lambda x,y: x*y, l1)"
   ]
  },
  {
   "cell_type": "code",
   "execution_count": 50,
   "id": "98479f00",
   "metadata": {},
   "outputs": [],
   "source": [
    "sum = reduce(lambda x,y: x+y, l1)"
   ]
  },
  {
   "cell_type": "code",
   "execution_count": null,
   "id": "bcfe45b4",
   "metadata": {},
   "outputs": [],
   "source": []
  },
  {
   "cell_type": "code",
   "execution_count": null,
   "id": "05a06371",
   "metadata": {},
   "outputs": [],
   "source": []
  }
 ],
 "metadata": {
  "kernelspec": {
   "display_name": "Python 3 (ipykernel)",
   "language": "python",
   "name": "python3"
  },
  "language_info": {
   "codemirror_mode": {
    "name": "ipython",
    "version": 3
   },
   "file_extension": ".py",
   "mimetype": "text/x-python",
   "name": "python",
   "nbconvert_exporter": "python",
   "pygments_lexer": "ipython3",
   "version": "3.11.4"
  }
 },
 "nbformat": 4,
 "nbformat_minor": 5
}
