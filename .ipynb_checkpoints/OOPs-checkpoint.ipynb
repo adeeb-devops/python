{
 "cells": [
  {
   "cell_type": "code",
   "execution_count": 1,
   "id": "7046add0",
   "metadata": {},
   "outputs": [],
   "source": [
    "#OOPs Concepts-\n",
    "\n",
    "#1. Class\n",
    "#2. Objects\n",
    "#3. Polymorphism\n",
    "#4. Encapsulation\n",
    "#5. Inheritance\n",
    "#6. Data abstraction"
   ]
  },
  {
   "cell_type": "code",
   "execution_count": null,
   "id": "54e1132e",
   "metadata": {},
   "outputs": [],
   "source": []
  },
  {
   "cell_type": "code",
   "execution_count": 2,
   "id": "697a8a29",
   "metadata": {},
   "outputs": [],
   "source": [
    "#1. Class\n"
   ]
  },
  {
   "cell_type": "code",
   "execution_count": 3,
   "id": "8fe5e3c8",
   "metadata": {},
   "outputs": [],
   "source": [
    "#create a class and object performing methods\n",
    "\n",
    "class Phone:                      #first letter of a class should be always capital\n",
    "    def make_call(self):\n",
    "        print(\"Making phone call\")\n",
    "    def play_games(self):\n",
    "        print(\"playing games\")"
   ]
  },
  {
   "cell_type": "code",
   "execution_count": 4,
   "id": "3185d44b",
   "metadata": {},
   "outputs": [],
   "source": [
    "p1 = Phone()"
   ]
  },
  {
   "cell_type": "code",
   "execution_count": 6,
   "id": "cca757df",
   "metadata": {},
   "outputs": [
    {
     "name": "stdout",
     "output_type": "stream",
     "text": [
      "Making phone call\n"
     ]
    }
   ],
   "source": [
    "p1.make_call()"
   ]
  },
  {
   "cell_type": "code",
   "execution_count": 13,
   "id": "8cde0678",
   "metadata": {},
   "outputs": [
    {
     "name": "stdout",
     "output_type": "stream",
     "text": [
      "Making phone call\n"
     ]
    }
   ],
   "source": [
    "Phone().make_call()"
   ]
  },
  {
   "cell_type": "code",
   "execution_count": 9,
   "id": "3a7eb1b4",
   "metadata": {},
   "outputs": [
    {
     "name": "stdout",
     "output_type": "stream",
     "text": [
      "playing games\n"
     ]
    }
   ],
   "source": [
    "p1.play_games()"
   ]
  },
  {
   "cell_type": "code",
   "execution_count": null,
   "id": "b7ef8f35",
   "metadata": {},
   "outputs": [],
   "source": []
  },
  {
   "cell_type": "code",
   "execution_count": null,
   "id": "9dc71eda",
   "metadata": {},
   "outputs": [],
   "source": []
  },
  {
   "cell_type": "code",
   "execution_count": 10,
   "id": "35dc3792",
   "metadata": {},
   "outputs": [],
   "source": [
    "# CREATING CLASS WITH CONSTRUCTOR\n"
   ]
  },
  {
   "cell_type": "code",
   "execution_count": 16,
   "id": "87bbd9f0",
   "metadata": {},
   "outputs": [],
   "source": [
    "class Employee:\n",
    "    def __init__(self,Name,Age,Salary,Gender):                    # __init__ is a constructor.\n",
    "        self.Name = Name                                          #The __init__ function is called every time an object is created from a class.\n",
    "        self.Age = Age\n",
    "        self.Salary = Salary\n",
    "        self.Gender = Gender\n",
    "    def Employee_details(self):\n",
    "        print(\"Name of Employee :\",self.Name)\n",
    "        print(\"Age of Employee :\",self.Age)\n",
    "        print(\"Salary of Employee :\",self.Salary)\n",
    "        print(\"Gender of Employee :\",self.Gender)"
   ]
  },
  {
   "cell_type": "code",
   "execution_count": 17,
   "id": "9ef5a218",
   "metadata": {},
   "outputs": [],
   "source": [
    "e1 = Employee(\"Maaz\",26,50000,\"Male\")"
   ]
  },
  {
   "cell_type": "code",
   "execution_count": 18,
   "id": "575bedab",
   "metadata": {},
   "outputs": [
    {
     "name": "stdout",
     "output_type": "stream",
     "text": [
      "Name of Employee : Maaz\n",
      "Age of Employee : 26\n",
      "Salary of Employee : 50000\n",
      "Gender of Employee : Male\n"
     ]
    }
   ],
   "source": [
    "e1.Employee_details()"
   ]
  },
  {
   "cell_type": "code",
   "execution_count": null,
   "id": "7d48b144",
   "metadata": {},
   "outputs": [],
   "source": [
    "############################################################"
   ]
  },
  {
   "cell_type": "code",
   "execution_count": 28,
   "id": "7abd0d61",
   "metadata": {},
   "outputs": [],
   "source": [
    "class Employees:\n",
    "    def __init__(self,name,age,gender):\n",
    "        self.name = name\n",
    "        self.age = age\n",
    "        self.gender = gender\n",
    "    def Employee_details(self):\n",
    "        print(\"Employee name =\",self.name)\n",
    "        print(\"Employee age =\",self.age)\n",
    "        print(\"Employee gender =\",self.gender)"
   ]
  },
  {
   "cell_type": "code",
   "execution_count": 29,
   "id": "cd4421b5",
   "metadata": {},
   "outputs": [],
   "source": [
    "e2 = Employees(\"adeeb\",25,\"male\")"
   ]
  },
  {
   "cell_type": "code",
   "execution_count": 30,
   "id": "3e0283fe",
   "metadata": {},
   "outputs": [
    {
     "name": "stdout",
     "output_type": "stream",
     "text": [
      "Employee name = adeeb\n",
      "Employee age = 25\n",
      "Employee gender = male\n"
     ]
    }
   ],
   "source": [
    "e2.Employee_details()"
   ]
  },
  {
   "cell_type": "code",
   "execution_count": 31,
   "id": "6cf37f4a",
   "metadata": {},
   "outputs": [],
   "source": [
    "#################################################################"
   ]
  },
  {
   "cell_type": "code",
   "execution_count": 36,
   "id": "d12036b9",
   "metadata": {},
   "outputs": [],
   "source": [
    "class Person:\n",
    " \n",
    "    # __init__ is known as the constructor\n",
    "    def __init__(self, name, idnumber):\n",
    "        self.name = name\n",
    "        self.idnumber = idnumber\n",
    " \n",
    "    def display(self):\n",
    "        print(self.name)\n",
    "        print(self.idnumber)\n",
    "         \n",
    "    def details(self):\n",
    "        print(\"My name is {}\".format(self.name))\n",
    "        print(\"IdNumber: {}\".format(self.idnumber))"
   ]
  },
  {
   "cell_type": "code",
   "execution_count": 39,
   "id": "01eaa895",
   "metadata": {},
   "outputs": [
    {
     "name": "stdout",
     "output_type": "stream",
     "text": [
      "My name is Hi\n",
      "IdNumber: 23\n"
     ]
    }
   ],
   "source": [
    "Person(\"Hi\",23).details()"
   ]
  },
  {
   "cell_type": "code",
   "execution_count": 40,
   "id": "c9194a91",
   "metadata": {},
   "outputs": [
    {
     "name": "stdout",
     "output_type": "stream",
     "text": [
      "Hi\n",
      "23\n"
     ]
    }
   ],
   "source": [
    "Person(\"Hi\",23).display()"
   ]
  },
  {
   "cell_type": "code",
   "execution_count": 41,
   "id": "865828e0",
   "metadata": {},
   "outputs": [],
   "source": [
    "############\n",
    "\n",
    "#whats the difference between this print(\"My name is {}\".format(self.name))  and this  print(\"My name is \",self.name)  \n",
    "      # *BOTH ARE SAME JUST THE SYNTAX IS DIFFERENT*\n",
    "    "
   ]
  },
  {
   "cell_type": "code",
   "execution_count": 42,
   "id": "8a33a49a",
   "metadata": {},
   "outputs": [],
   "source": [
    "###############################################################################################################################"
   ]
  },
  {
   "cell_type": "code",
   "execution_count": null,
   "id": "8f4628ab",
   "metadata": {},
   "outputs": [],
   "source": []
  },
  {
   "cell_type": "code",
   "execution_count": 43,
   "id": "5159e1b5",
   "metadata": {},
   "outputs": [],
   "source": [
    "# INHERITANCE"
   ]
  },
  {
   "cell_type": "code",
   "execution_count": null,
   "id": "d88e87c8",
   "metadata": {},
   "outputs": [],
   "source": []
  },
  {
   "cell_type": "code",
   "execution_count": 83,
   "id": "3c8ca4be",
   "metadata": {},
   "outputs": [],
   "source": [
    "#Parent Class\n",
    "\n",
    "class vehicle:\n",
    "    def __init__(self,milage,cost):\n",
    "        self.milage = milage\n",
    "        self.cost = cost\n",
    "        \n",
    "    def Vehicle_details(self):\n",
    "        print(\"vehicle milage is\",self.milage)\n",
    "        print(\"vehicle cost is\", self.cost)\n",
    "        "
   ]
  },
  {
   "cell_type": "code",
   "execution_count": 84,
   "id": "f5389615",
   "metadata": {},
   "outputs": [],
   "source": [
    "v1=vehicle(45,40000)"
   ]
  },
  {
   "cell_type": "code",
   "execution_count": 85,
   "id": "29f544ac",
   "metadata": {},
   "outputs": [
    {
     "name": "stdout",
     "output_type": "stream",
     "text": [
      "vehicle milage is 45\n",
      "vehicle cost is 40000\n"
     ]
    }
   ],
   "source": [
    "v1.Vehicle_details()"
   ]
  },
  {
   "cell_type": "code",
   "execution_count": 86,
   "id": "257a4403",
   "metadata": {},
   "outputs": [],
   "source": [
    "# Child Class\n",
    "\n",
    "class car(vehicle):\n",
    "    def car_details(self):\n",
    "        print(\"This is ferrari\")"
   ]
  },
  {
   "cell_type": "code",
   "execution_count": 87,
   "id": "d106e8fd",
   "metadata": {},
   "outputs": [],
   "source": [
    "c1 = car(45,4000)"
   ]
  },
  {
   "cell_type": "code",
   "execution_count": 88,
   "id": "c3e81618",
   "metadata": {},
   "outputs": [
    {
     "name": "stdout",
     "output_type": "stream",
     "text": [
      "vehicle milage is 45\n",
      "vehicle cost is 40000\n"
     ]
    }
   ],
   "source": [
    "v1.Vehicle_details()"
   ]
  },
  {
   "cell_type": "code",
   "execution_count": 89,
   "id": "ebf207a9",
   "metadata": {},
   "outputs": [
    {
     "name": "stdout",
     "output_type": "stream",
     "text": [
      "This is ferrari\n"
     ]
    }
   ],
   "source": [
    "c1.car_details()"
   ]
  },
  {
   "cell_type": "code",
   "execution_count": 91,
   "id": "cf69d892",
   "metadata": {},
   "outputs": [
    {
     "name": "stdout",
     "output_type": "stream",
     "text": [
      "vehicle milage is 45\n",
      "vehicle cost is 4000\n"
     ]
    }
   ],
   "source": [
    "c1.Vehicle_details()                  #able to get parent function through child class"
   ]
  },
  {
   "cell_type": "code",
   "execution_count": null,
   "id": "ca08e796",
   "metadata": {},
   "outputs": [],
   "source": []
  },
  {
   "cell_type": "code",
   "execution_count": 92,
   "id": "df60b003",
   "metadata": {},
   "outputs": [],
   "source": [
    "# We cant use init constructor in child class, But to use the constructor in child class we need to over ride"
   ]
  },
  {
   "cell_type": "code",
   "execution_count": null,
   "id": "09cd12dd",
   "metadata": {},
   "outputs": [],
   "source": []
  },
  {
   "cell_type": "code",
   "execution_count": 96,
   "id": "60f9d8f7",
   "metadata": {},
   "outputs": [],
   "source": [
    "class car(vehicle):\n",
    "    def __init__(self,milage,cost,hp,tyres):\n",
    "        super().__init__(milage,cost)                  #need to use this super value/function\n",
    "        self.tyres = tyres\n",
    "        self.hp = hp\n",
    "    def show_car_details(self):\n",
    "        print(\"hp of car =\",self.hp)\n",
    "        print(\"no. of tyres of car =\",self.tyres)"
   ]
  },
  {
   "cell_type": "code",
   "execution_count": 97,
   "id": "11296db2",
   "metadata": {},
   "outputs": [],
   "source": [
    "c2 = car(600,8000,500,4)"
   ]
  },
  {
   "cell_type": "code",
   "execution_count": 98,
   "id": "383f2f5b",
   "metadata": {},
   "outputs": [
    {
     "name": "stdout",
     "output_type": "stream",
     "text": [
      "hp of car = 500\n",
      "no. of tyres of car = 4\n"
     ]
    }
   ],
   "source": [
    "c2.show_car_details()"
   ]
  },
  {
   "cell_type": "code",
   "execution_count": 99,
   "id": "592b00f7",
   "metadata": {},
   "outputs": [
    {
     "name": "stdout",
     "output_type": "stream",
     "text": [
      "vehicle milage is 600\n",
      "vehicle cost is 8000\n"
     ]
    }
   ],
   "source": [
    "c2.Vehicle_details()"
   ]
  },
  {
   "cell_type": "code",
   "execution_count": null,
   "id": "21343812",
   "metadata": {},
   "outputs": [],
   "source": [
    "################################################################################################################################"
   ]
  },
  {
   "cell_type": "code",
   "execution_count": 100,
   "id": "41903a92",
   "metadata": {},
   "outputs": [],
   "source": [
    "# MULTI-LEVEL INHERITANCE\n"
   ]
  },
  {
   "cell_type": "code",
   "execution_count": 102,
   "id": "254686c6",
   "metadata": {},
   "outputs": [],
   "source": [
    "# Parents\n",
    "\n",
    "class Parent:\n",
    "    def get_name(self,name):\n",
    "        self.name = name\n",
    "    def show_name(self):\n",
    "        return self.name"
   ]
  },
  {
   "cell_type": "code",
   "execution_count": 107,
   "id": "42d689d6",
   "metadata": {},
   "outputs": [],
   "source": [
    "# Child\n",
    "\n",
    "class Child(Parent):\n",
    "    def get_age(self,age):\n",
    "        self.age = age\n",
    "    def show_age(self):\n",
    "        return self.age"
   ]
  },
  {
   "cell_type": "code",
   "execution_count": 108,
   "id": "2e2a3068",
   "metadata": {},
   "outputs": [],
   "source": [
    "# Grand child\n",
    "\n",
    "class Grand_child(Child):\n",
    "    def get_gender(self,gender):\n",
    "        self.gender = gender\n",
    "    def show_gender(self):\n",
    "        return self.gender"
   ]
  },
  {
   "cell_type": "code",
   "execution_count": 109,
   "id": "48f4bdec",
   "metadata": {},
   "outputs": [],
   "source": [
    "gc = Grand_child()"
   ]
  },
  {
   "cell_type": "code",
   "execution_count": 111,
   "id": "04789bad",
   "metadata": {},
   "outputs": [],
   "source": [
    "gc.get_name(\"chintu\")"
   ]
  },
  {
   "cell_type": "code",
   "execution_count": 112,
   "id": "dbc0c7d9",
   "metadata": {},
   "outputs": [],
   "source": [
    "gc.get_age(5)"
   ]
  },
  {
   "cell_type": "code",
   "execution_count": 113,
   "id": "235ab32a",
   "metadata": {},
   "outputs": [],
   "source": [
    "gc.get_gender(\"male\")"
   ]
  },
  {
   "cell_type": "code",
   "execution_count": 114,
   "id": "fc391c4e",
   "metadata": {},
   "outputs": [
    {
     "data": {
      "text/plain": [
       "5"
      ]
     },
     "execution_count": 114,
     "metadata": {},
     "output_type": "execute_result"
    }
   ],
   "source": [
    "gc.show_age()"
   ]
  },
  {
   "cell_type": "code",
   "execution_count": 115,
   "id": "f4073fb6",
   "metadata": {},
   "outputs": [
    {
     "data": {
      "text/plain": [
       "'male'"
      ]
     },
     "execution_count": 115,
     "metadata": {},
     "output_type": "execute_result"
    }
   ],
   "source": [
    "gc.show_gender()"
   ]
  },
  {
   "cell_type": "code",
   "execution_count": 116,
   "id": "a86c3e12",
   "metadata": {},
   "outputs": [
    {
     "data": {
      "text/plain": [
       "'chintu'"
      ]
     },
     "execution_count": 116,
     "metadata": {},
     "output_type": "execute_result"
    }
   ],
   "source": [
    "gc.show_name()"
   ]
  },
  {
   "cell_type": "code",
   "execution_count": null,
   "id": "8bc0a6e2",
   "metadata": {},
   "outputs": [],
   "source": [
    "################################################################################################################################"
   ]
  }
 ],
 "metadata": {
  "kernelspec": {
   "display_name": "Python 3 (ipykernel)",
   "language": "python",
   "name": "python3"
  },
  "language_info": {
   "codemirror_mode": {
    "name": "ipython",
    "version": 3
   },
   "file_extension": ".py",
   "mimetype": "text/x-python",
   "name": "python",
   "nbconvert_exporter": "python",
   "pygments_lexer": "ipython3",
   "version": "3.11.4"
  }
 },
 "nbformat": 4,
 "nbformat_minor": 5
}
