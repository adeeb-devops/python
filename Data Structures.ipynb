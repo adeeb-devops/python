{
 "cells": [
  {
   "cell_type": "code",
   "execution_count": 16,
   "id": "bd18d3af",
   "metadata": {},
   "outputs": [],
   "source": [
    "#1.Tuple\n",
    "\n",
    "tup1 = (1, 2, 3,\"a\",True)"
   ]
  },
  {
   "cell_type": "code",
   "execution_count": 17,
   "id": "dae56140",
   "metadata": {},
   "outputs": [
    {
     "data": {
      "text/plain": [
       "(1, 2, 3, 'a', True)"
      ]
     },
     "execution_count": 17,
     "metadata": {},
     "output_type": "execute_result"
    }
   ],
   "source": [
    "\n",
    "tup1"
   ]
  },
  {
   "cell_type": "code",
   "execution_count": 18,
   "id": "fe5c4254",
   "metadata": {},
   "outputs": [
    {
     "data": {
      "text/plain": [
       "1"
      ]
     },
     "execution_count": 18,
     "metadata": {},
     "output_type": "execute_result"
    }
   ],
   "source": [
    "tup1[0]"
   ]
  },
  {
   "cell_type": "code",
   "execution_count": 19,
   "id": "287af26e",
   "metadata": {},
   "outputs": [
    {
     "data": {
      "text/plain": [
       "2"
      ]
     },
     "execution_count": 19,
     "metadata": {},
     "output_type": "execute_result"
    }
   ],
   "source": [
    "tup1[1]"
   ]
  },
  {
   "cell_type": "code",
   "execution_count": 20,
   "id": "c403a92b",
   "metadata": {},
   "outputs": [
    {
     "data": {
      "text/plain": [
       "3"
      ]
     },
     "execution_count": 20,
     "metadata": {},
     "output_type": "execute_result"
    }
   ],
   "source": [
    "tup1[2]"
   ]
  },
  {
   "cell_type": "code",
   "execution_count": 21,
   "id": "89937979",
   "metadata": {},
   "outputs": [
    {
     "data": {
      "text/plain": [
       "'a'"
      ]
     },
     "execution_count": 21,
     "metadata": {},
     "output_type": "execute_result"
    }
   ],
   "source": [
    "tup1[3]"
   ]
  },
  {
   "cell_type": "code",
   "execution_count": 22,
   "id": "c3b732a4",
   "metadata": {},
   "outputs": [
    {
     "data": {
      "text/plain": [
       "True"
      ]
     },
     "execution_count": 22,
     "metadata": {},
     "output_type": "execute_result"
    }
   ],
   "source": [
    "tup1[4]"
   ]
  },
  {
   "cell_type": "code",
   "execution_count": 27,
   "id": "171b3310",
   "metadata": {},
   "outputs": [
    {
     "data": {
      "text/plain": [
       "(1, 2, 3, 'a')"
      ]
     },
     "execution_count": 27,
     "metadata": {},
     "output_type": "execute_result"
    }
   ],
   "source": [
    "tup1[0:4]"
   ]
  },
  {
   "cell_type": "code",
   "execution_count": 28,
   "id": "97a2d49c",
   "metadata": {},
   "outputs": [
    {
     "ename": "TypeError",
     "evalue": "'tuple' object does not support item assignment",
     "output_type": "error",
     "traceback": [
      "\u001b[1;31m---------------------------------------------------------------------------\u001b[0m",
      "\u001b[1;31mTypeError\u001b[0m                                 Traceback (most recent call last)",
      "Cell \u001b[1;32mIn[28], line 1\u001b[0m\n\u001b[1;32m----> 1\u001b[0m tup1[\u001b[38;5;241m1\u001b[39m] \u001b[38;5;241m=\u001b[39m \u001b[38;5;124m\"\u001b[39m\u001b[38;5;124mhii\u001b[39m\u001b[38;5;124m\"\u001b[39m\n",
      "\u001b[1;31mTypeError\u001b[0m: 'tuple' object does not support item assignment"
     ]
    }
   ],
   "source": [
    "#Immutable tuple\n",
    "tup1[1] = \"hii\""
   ]
  },
  {
   "cell_type": "code",
   "execution_count": 29,
   "id": "fa19bbd3",
   "metadata": {},
   "outputs": [
    {
     "data": {
      "text/plain": [
       "(1, 2, 3, 'a', True, 10, 20, 30, 'ab', False)"
      ]
     },
     "execution_count": 29,
     "metadata": {},
     "output_type": "execute_result"
    }
   ],
   "source": [
    "#concatenating tuple\n",
    "tup1 = (1, 2, 3,\"a\",True)\n",
    "tup2 = (10, 20, 30,\"ab\",False)\n",
    "tup1 + tup2"
   ]
  },
  {
   "cell_type": "code",
   "execution_count": 30,
   "id": "5f17464a",
   "metadata": {},
   "outputs": [
    {
     "data": {
      "text/plain": [
       "(1, 2, 3, 'a', True, 1, 2, 3, 'a', True, 1, 2, 3, 'a', True)"
      ]
     },
     "execution_count": 30,
     "metadata": {},
     "output_type": "execute_result"
    }
   ],
   "source": [
    "#repeating tuple\n",
    "tup1*3"
   ]
  },
  {
   "cell_type": "code",
   "execution_count": 31,
   "id": "d8bc0d6f",
   "metadata": {},
   "outputs": [
    {
     "data": {
      "text/plain": [
       "(1,\n",
       " 2,\n",
       " 3,\n",
       " 'a',\n",
       " True,\n",
       " 1,\n",
       " 2,\n",
       " 3,\n",
       " 'a',\n",
       " True,\n",
       " 1,\n",
       " 2,\n",
       " 3,\n",
       " 'a',\n",
       " True,\n",
       " 10,\n",
       " 20,\n",
       " 30,\n",
       " 'ab',\n",
       " False)"
      ]
     },
     "execution_count": 31,
     "metadata": {},
     "output_type": "execute_result"
    }
   ],
   "source": [
    "tup1*3 + tup2"
   ]
  },
  {
   "cell_type": "code",
   "execution_count": 42,
   "id": "9d47ede9",
   "metadata": {},
   "outputs": [
    {
     "data": {
      "text/plain": [
       "-44"
      ]
     },
     "execution_count": 42,
     "metadata": {},
     "output_type": "execute_result"
    }
   ],
   "source": [
    "tup1 = (1,3,2,3,4,4,3,3,5,5,3,3,5,5,5,4,33,4,5,5,5,-44,0)\n",
    "min(tup1)\n"
   ]
  },
  {
   "cell_type": "code",
   "execution_count": 43,
   "id": "3b6131a6",
   "metadata": {},
   "outputs": [
    {
     "data": {
      "text/plain": [
       "33"
      ]
     },
     "execution_count": 43,
     "metadata": {},
     "output_type": "execute_result"
    }
   ],
   "source": [
    "max(tup1)"
   ]
  },
  {
   "cell_type": "code",
   "execution_count": null,
   "id": "3f8e3aac",
   "metadata": {},
   "outputs": [],
   "source": []
  },
  {
   "cell_type": "code",
   "execution_count": 45,
   "id": "88ca2add",
   "metadata": {},
   "outputs": [],
   "source": [
    "#2.LIST\n",
    "\n",
    "\n"
   ]
  },
  {
   "cell_type": "code",
   "execution_count": 97,
   "id": "7302ddb1",
   "metadata": {},
   "outputs": [],
   "source": [
    "L1 = [1, 2, 3,\"a\",True]"
   ]
  },
  {
   "cell_type": "code",
   "execution_count": 98,
   "id": "022401db",
   "metadata": {},
   "outputs": [],
   "source": [
    "L1[3] = False"
   ]
  },
  {
   "cell_type": "code",
   "execution_count": 99,
   "id": "2526cca0",
   "metadata": {},
   "outputs": [
    {
     "data": {
      "text/plain": [
       "[1, 2, 3, False, True]"
      ]
     },
     "execution_count": 99,
     "metadata": {},
     "output_type": "execute_result"
    }
   ],
   "source": [
    "L1"
   ]
  },
  {
   "cell_type": "code",
   "execution_count": 100,
   "id": "953e8c63",
   "metadata": {},
   "outputs": [],
   "source": [
    "L1.append('Hello')"
   ]
  },
  {
   "cell_type": "code",
   "execution_count": 101,
   "id": "94cfd3ba",
   "metadata": {},
   "outputs": [
    {
     "data": {
      "text/plain": [
       "[1, 2, 3, False, True, 'Hello']"
      ]
     },
     "execution_count": 101,
     "metadata": {},
     "output_type": "execute_result"
    }
   ],
   "source": [
    "L1"
   ]
  },
  {
   "cell_type": "code",
   "execution_count": 102,
   "id": "9deabf10",
   "metadata": {},
   "outputs": [
    {
     "data": {
      "text/plain": [
       "[1, 2, 3, False, True]"
      ]
     },
     "execution_count": 102,
     "metadata": {},
     "output_type": "execute_result"
    }
   ],
   "source": [
    "#Popping\n",
    "\n",
    "L1.pop()\n",
    "\n",
    "L1"
   ]
  },
  {
   "cell_type": "code",
   "execution_count": 105,
   "id": "f14c78a0",
   "metadata": {},
   "outputs": [
    {
     "data": {
      "text/plain": [
       "[1, 'start', 2, 3, 'a', True]"
      ]
     },
     "execution_count": 105,
     "metadata": {},
     "output_type": "execute_result"
    }
   ],
   "source": [
    "#Inserting\n",
    "L1 = [1, 2, 3,\"a\",True]\n",
    "L1.insert(1,'start')\n",
    "L1"
   ]
  },
  {
   "cell_type": "code",
   "execution_count": 106,
   "id": "65d0f6d0",
   "metadata": {},
   "outputs": [],
   "source": [
    "L1 = [1, 2, 3,\"a\",True]\n",
    "L1.insert(2,\"end\")"
   ]
  },
  {
   "cell_type": "code",
   "execution_count": 107,
   "id": "7d7cf43a",
   "metadata": {},
   "outputs": [
    {
     "data": {
      "text/plain": [
       "[1, 2, 'end', 3, 'a', True]"
      ]
     },
     "execution_count": 107,
     "metadata": {},
     "output_type": "execute_result"
    }
   ],
   "source": [
    "L1"
   ]
  },
  {
   "cell_type": "code",
   "execution_count": 110,
   "id": "966e311f",
   "metadata": {},
   "outputs": [
    {
     "data": {
      "text/plain": [
       "[1, 2, 'end', 3, 'a', True]"
      ]
     },
     "execution_count": 110,
     "metadata": {},
     "output_type": "execute_result"
    }
   ],
   "source": [
    "#reverse\n",
    "L1.reverse()\n",
    "\n",
    "L1"
   ]
  },
  {
   "cell_type": "code",
   "execution_count": 112,
   "id": "5751272c",
   "metadata": {},
   "outputs": [
    {
     "data": {
      "text/plain": [
       "['a', 'b', 'q', 's', 'w', 'y']"
      ]
     },
     "execution_count": 112,
     "metadata": {},
     "output_type": "execute_result"
    }
   ],
   "source": [
    "#sort\n",
    "L1 = ['a','b','y','w','q','s']\n",
    "L1.sort()\n",
    "L1"
   ]
  },
  {
   "cell_type": "code",
   "execution_count": null,
   "id": "a559d9da",
   "metadata": {},
   "outputs": [],
   "source": []
  },
  {
   "cell_type": "code",
   "execution_count": 1,
   "id": "87286baa",
   "metadata": {},
   "outputs": [],
   "source": [
    "#3.Dictionaries\n",
    "\n",
    "\n",
    "{}"
   ]
  },
  {
   "cell_type": "code",
   "execution_count": 44,
   "id": "4c55d9c0",
   "metadata": {},
   "outputs": [],
   "source": [
    "fruits = {\"mangoes\":10,\"apples\":25,\"oranges\":15}"
   ]
  },
  {
   "cell_type": "code",
   "execution_count": 45,
   "id": "ba014367",
   "metadata": {},
   "outputs": [
    {
     "data": {
      "text/plain": [
       "{'mangoes': 10, 'apples': 25, 'oranges': 15}"
      ]
     },
     "execution_count": 45,
     "metadata": {},
     "output_type": "execute_result"
    }
   ],
   "source": [
    "fruits"
   ]
  },
  {
   "cell_type": "code",
   "execution_count": 46,
   "id": "4a5190e9",
   "metadata": {},
   "outputs": [
    {
     "data": {
      "text/plain": [
       "dict_keys(['mangoes', 'apples', 'oranges'])"
      ]
     },
     "execution_count": 46,
     "metadata": {},
     "output_type": "execute_result"
    }
   ],
   "source": [
    "#keys\n",
    "fruits.keys()"
   ]
  },
  {
   "cell_type": "code",
   "execution_count": 47,
   "id": "a9fb890b",
   "metadata": {},
   "outputs": [
    {
     "data": {
      "text/plain": [
       "dict_values([10, 25, 15])"
      ]
     },
     "execution_count": 47,
     "metadata": {},
     "output_type": "execute_result"
    }
   ],
   "source": [
    "#values\n",
    "fruits.values()"
   ]
  },
  {
   "cell_type": "code",
   "execution_count": null,
   "id": "ff7c2ebb",
   "metadata": {},
   "outputs": [],
   "source": []
  },
  {
   "cell_type": "code",
   "execution_count": 49,
   "id": "01168457",
   "metadata": {},
   "outputs": [],
   "source": [
    "#adding new element\n",
    "\n",
    "fruits[\"guava\"]=50"
   ]
  },
  {
   "cell_type": "code",
   "execution_count": 50,
   "id": "228f02ac",
   "metadata": {},
   "outputs": [
    {
     "data": {
      "text/plain": [
       "{'mangoes': 10, 'apples': 25, 'oranges': 15, 'guava': 50}"
      ]
     },
     "execution_count": 50,
     "metadata": {},
     "output_type": "execute_result"
    }
   ],
   "source": [
    "fruits"
   ]
  },
  {
   "cell_type": "code",
   "execution_count": null,
   "id": "e2529465",
   "metadata": {},
   "outputs": [],
   "source": []
  },
  {
   "cell_type": "code",
   "execution_count": 51,
   "id": "8eeee620",
   "metadata": {},
   "outputs": [],
   "source": [
    "# changing existing element\n",
    "\n",
    "fruits[\"apples\"]=30"
   ]
  },
  {
   "cell_type": "code",
   "execution_count": 71,
   "id": "4b0caba5",
   "metadata": {},
   "outputs": [
    {
     "data": {
      "text/plain": [
       "{'mangoes': 10, 'apples': 30, 'oranges': 15, 'guava': 50}"
      ]
     },
     "execution_count": 71,
     "metadata": {},
     "output_type": "execute_result"
    }
   ],
   "source": [
    "fruits"
   ]
  },
  {
   "cell_type": "code",
   "execution_count": null,
   "id": "b4487981",
   "metadata": {},
   "outputs": [],
   "source": []
  },
  {
   "cell_type": "code",
   "execution_count": 72,
   "id": "5b5e4602",
   "metadata": {},
   "outputs": [],
   "source": [
    "#update one dictionary element with other\n",
    "\n",
    "fruits1 = {'mangoes': 10, 'apples': 30}\n",
    "fruits2 = {'oranges': 15, 'guava': 50}\n",
    "fruits1.update(fruits2)"
   ]
  },
  {
   "cell_type": "code",
   "execution_count": 73,
   "id": "fd529c7d",
   "metadata": {},
   "outputs": [
    {
     "data": {
      "text/plain": [
       "{'mangoes': 10, 'apples': 30, 'oranges': 15, 'guava': 50}"
      ]
     },
     "execution_count": 73,
     "metadata": {},
     "output_type": "execute_result"
    }
   ],
   "source": [
    "fruits1"
   ]
  },
  {
   "cell_type": "code",
   "execution_count": null,
   "id": "c8492d70",
   "metadata": {},
   "outputs": [],
   "source": []
  },
  {
   "cell_type": "code",
   "execution_count": 74,
   "id": "325cf2a4",
   "metadata": {},
   "outputs": [
    {
     "data": {
      "text/plain": [
       "50"
      ]
     },
     "execution_count": 74,
     "metadata": {},
     "output_type": "execute_result"
    }
   ],
   "source": [
    "#poping an element\n",
    "\n",
    "fruits1.pop(\"guava\")"
   ]
  },
  {
   "cell_type": "code",
   "execution_count": 75,
   "id": "b74fd511",
   "metadata": {},
   "outputs": [
    {
     "data": {
      "text/plain": [
       "{'mangoes': 10, 'apples': 30, 'oranges': 15}"
      ]
     },
     "execution_count": 75,
     "metadata": {},
     "output_type": "execute_result"
    }
   ],
   "source": [
    "fruits1"
   ]
  },
  {
   "cell_type": "code",
   "execution_count": null,
   "id": "d7ba20c2",
   "metadata": {},
   "outputs": [],
   "source": [
    "\n"
   ]
  },
  {
   "cell_type": "code",
   "execution_count": 76,
   "id": "0f026996",
   "metadata": {},
   "outputs": [],
   "source": [
    "#4. SETS\n",
    "\n",
    "\n",
    "\n"
   ]
  },
  {
   "cell_type": "code",
   "execution_count": 77,
   "id": "d7ee7a56",
   "metadata": {},
   "outputs": [],
   "source": [
    "set = {1, 'a'}"
   ]
  },
  {
   "cell_type": "code",
   "execution_count": 93,
   "id": "48860a3e",
   "metadata": {},
   "outputs": [
    {
     "data": {
      "text/plain": [
       "set"
      ]
     },
     "execution_count": 93,
     "metadata": {},
     "output_type": "execute_result"
    }
   ],
   "source": [
    "type(set)"
   ]
  },
  {
   "cell_type": "code",
   "execution_count": 112,
   "id": "e97151c3",
   "metadata": {},
   "outputs": [
    {
     "data": {
      "text/plain": [
       "{False, 1, 3.14}"
      ]
     },
     "execution_count": 112,
     "metadata": {},
     "output_type": "execute_result"
    }
   ],
   "source": [
    "set = {1,3.14,False,True}\n",
    "set\n",
    "#True is not showing in Output,because True = 1 and False = 0 and since 1 is already in set its not showing True \n",
    "#as sets doesnot accept duplicate elements"
   ]
  },
  {
   "cell_type": "code",
   "execution_count": 113,
   "id": "23d8edb8",
   "metadata": {},
   "outputs": [
    {
     "name": "stdout",
     "output_type": "stream",
     "text": [
      "{False, 1, 3.14}\n"
     ]
    }
   ],
   "source": [
    "print(set)"
   ]
  },
  {
   "cell_type": "code",
   "execution_count": null,
   "id": "392fd95a",
   "metadata": {},
   "outputs": [],
   "source": []
  }
 ],
 "metadata": {
  "kernelspec": {
   "display_name": "Python 3 (ipykernel)",
   "language": "python",
   "name": "python3"
  },
  "language_info": {
   "codemirror_mode": {
    "name": "ipython",
    "version": 3
   },
   "file_extension": ".py",
   "mimetype": "text/x-python",
   "name": "python",
   "nbconvert_exporter": "python",
   "pygments_lexer": "ipython3",
   "version": "3.11.4"
  }
 },
 "nbformat": 4,
 "nbformat_minor": 5
}
