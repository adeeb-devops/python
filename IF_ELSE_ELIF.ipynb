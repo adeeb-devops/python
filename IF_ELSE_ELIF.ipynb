{
 "cells": [
  {
   "cell_type": "code",
   "execution_count": 1,
   "id": "71150cb5",
   "metadata": {},
   "outputs": [],
   "source": [
    "# IF\n",
    "\n"
   ]
  },
  {
   "cell_type": "code",
   "execution_count": 2,
   "id": "7b24c7a2",
   "metadata": {},
   "outputs": [
    {
     "name": "stdout",
     "output_type": "stream",
     "text": [
      "\"b\" is greater than \"a\"\n"
     ]
    }
   ],
   "source": [
    "a = 10\n",
    "b = 30\n",
    "\n",
    "if b>a:\n",
    "    print('\"b\" is greater than \"a\"')"
   ]
  },
  {
   "cell_type": "code",
   "execution_count": 3,
   "id": "c9a54e17",
   "metadata": {},
   "outputs": [],
   "source": [
    "# ELSE\n",
    "\n"
   ]
  },
  {
   "cell_type": "code",
   "execution_count": 6,
   "id": "ae66755d",
   "metadata": {},
   "outputs": [
    {
     "name": "stdout",
     "output_type": "stream",
     "text": [
      "\"b\" is greater than \"a\"\n"
     ]
    }
   ],
   "source": [
    "a = 10\n",
    "b = 30\n",
    "\n",
    "if a>b:\n",
    "    print('\"a\" is greater than \"b\"')\n",
    "else:\n",
    "    print('\"b\" is greater than \"a\"')"
   ]
  },
  {
   "cell_type": "code",
   "execution_count": 11,
   "id": "99a44fc6",
   "metadata": {},
   "outputs": [],
   "source": [
    "# ELIF\n",
    "\n",
    "\n"
   ]
  },
  {
   "cell_type": "code",
   "execution_count": 22,
   "id": "d024ad5d",
   "metadata": {},
   "outputs": [
    {
     "name": "stdout",
     "output_type": "stream",
     "text": [
      "'b' is greatest number\n"
     ]
    }
   ],
   "source": [
    "a = 32\n",
    "b = 56\n",
    "c = -87\n",
    "\n",
    "if (a>b) & (a>c):\n",
    "    print(\"'a' is the greatest number\")\n",
    "elif (b>a) & (b>c):\n",
    "    print(\"'b' is greatest number\")\n",
    "else:\n",
    "    print(\"'c' is greatest number\")"
   ]
  },
  {
   "cell_type": "code",
   "execution_count": 44,
   "id": "d6ca17e9",
   "metadata": {},
   "outputs": [
    {
     "data": {
      "text/plain": [
       "{'k1': 10, 'k2': 20, 'k3': 30}"
      ]
     },
     "execution_count": 44,
     "metadata": {},
     "output_type": "execute_result"
    }
   ],
   "source": [
    "# \"IF statement with Dictionary\"\n",
    "\n",
    "\n",
    "\n",
    "d1 = {\"k1\":10,\"k2\":20,\"k3\":30}\n",
    "d1"
   ]
  },
  {
   "cell_type": "code",
   "execution_count": 45,
   "id": "ad719855",
   "metadata": {},
   "outputs": [
    {
     "data": {
      "text/plain": [
       "{'k1': 10, 'k2': 20, 'k3': 30}"
      ]
     },
     "execution_count": 45,
     "metadata": {},
     "output_type": "execute_result"
    }
   ],
   "source": [
    "if d1[\"k2\"] == 15:\n",
    " d1['k2']=d1['k3']+100\n",
    "d1"
   ]
  },
  {
   "cell_type": "code",
   "execution_count": 49,
   "id": "7a424c15",
   "metadata": {},
   "outputs": [
    {
     "data": {
      "text/plain": [
       "{'k1': 10, 'k2': 130, 'k3': 30}"
      ]
     },
     "execution_count": 49,
     "metadata": {},
     "output_type": "execute_result"
    }
   ],
   "source": [
    "if d1[\"k2\"] == 20:\n",
    " d1['k2']=d1['k3']+100\n",
    "d1"
   ]
  },
  {
   "cell_type": "code",
   "execution_count": 79,
   "id": "153daf66",
   "metadata": {},
   "outputs": [
    {
     "data": {
      "text/plain": [
       "{'k1': 10, 'k2': -70, 'k3': 30}"
      ]
     },
     "execution_count": 79,
     "metadata": {},
     "output_type": "execute_result"
    }
   ],
   "source": [
    "d1 = {\"k1\":10,\"k2\":20,\"k3\":30}\n",
    "\n",
    "if d1[\"k2\"] == 4:\n",
    "    d1['k2']=d1['k2']+100\n",
    "elif d1[\"k2\"] == 20:\n",
    "    d1['k2']=d1['k3']-100\n",
    "else:\n",
    "    print(\"'k2' not defined\")\n",
    "    \n",
    "d1\n"
   ]
  },
  {
   "cell_type": "code",
   "execution_count": null,
   "id": "be6ed790",
   "metadata": {},
   "outputs": [],
   "source": []
  }
 ],
 "metadata": {
  "kernelspec": {
   "display_name": "Python 3 (ipykernel)",
   "language": "python",
   "name": "python3"
  },
  "language_info": {
   "codemirror_mode": {
    "name": "ipython",
    "version": 3
   },
   "file_extension": ".py",
   "mimetype": "text/x-python",
   "name": "python",
   "nbconvert_exporter": "python",
   "pygments_lexer": "ipython3",
   "version": "3.11.4"
  }
 },
 "nbformat": 4,
 "nbformat_minor": 5
}
