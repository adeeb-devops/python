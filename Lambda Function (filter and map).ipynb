{
 "cells": [
  {
   "cell_type": "code",
   "execution_count": 1,
   "id": "b9bd8536",
   "metadata": {},
   "outputs": [],
   "source": [
    "#Lambda function\n",
    "\n"
   ]
  },
  {
   "cell_type": "code",
   "execution_count": 2,
   "id": "dc8e7f21",
   "metadata": {},
   "outputs": [],
   "source": [
    "g = lambda x: x*x*x\n"
   ]
  },
  {
   "cell_type": "code",
   "execution_count": 3,
   "id": "215b4f9c",
   "metadata": {},
   "outputs": [
    {
     "data": {
      "text/plain": [
       "729"
      ]
     },
     "execution_count": 3,
     "metadata": {},
     "output_type": "execute_result"
    }
   ],
   "source": [
    "g(9)"
   ]
  },
  {
   "cell_type": "code",
   "execution_count": 4,
   "id": "e6863247",
   "metadata": {},
   "outputs": [
    {
     "data": {
      "text/plain": [
       "1000"
      ]
     },
     "execution_count": 4,
     "metadata": {},
     "output_type": "execute_result"
    }
   ],
   "source": [
    "g(10)"
   ]
  },
  {
   "cell_type": "code",
   "execution_count": null,
   "id": "7678cb84",
   "metadata": {},
   "outputs": [],
   "source": []
  },
  {
   "cell_type": "code",
   "execution_count": 6,
   "id": "3e71a6df",
   "metadata": {},
   "outputs": [],
   "source": [
    "# Write a program to write the list of odd and even number\n",
    "\n",
    "# FILTER function with lambda\n",
    "\n",
    "#1\n",
    "\n",
    "l1= [44,55,66,77,88,99,22]\n",
    "\n",
    "final_list = list(filter(lambda x: (x%2 == 0) ,l1))"
   ]
  },
  {
   "cell_type": "code",
   "execution_count": 7,
   "id": "50454524",
   "metadata": {},
   "outputs": [
    {
     "data": {
      "text/plain": [
       "[44, 66, 88, 22]"
      ]
     },
     "execution_count": 7,
     "metadata": {},
     "output_type": "execute_result"
    }
   ],
   "source": [
    "final_list\n"
   ]
  },
  {
   "cell_type": "code",
   "execution_count": 28,
   "id": "3bd62551",
   "metadata": {},
   "outputs": [
    {
     "ename": "TypeError",
     "evalue": "filter expected 2 arguments, got 1",
     "output_type": "error",
     "traceback": [
      "\u001b[1;31m---------------------------------------------------------------------------\u001b[0m",
      "\u001b[1;31mTypeError\u001b[0m                                 Traceback (most recent call last)",
      "Cell \u001b[1;32mIn[28], line 3\u001b[0m\n\u001b[0;32m      1\u001b[0m l1 \u001b[38;5;241m=\u001b[39m [\u001b[38;5;241m4\u001b[39m,\u001b[38;5;241m765\u001b[39m,\u001b[38;5;241m43\u001b[39m,\u001b[38;5;241m9868\u001b[39m,\u001b[38;5;241m643\u001b[39m,\u001b[38;5;241m908\u001b[39m,\u001b[38;5;241m2\u001b[39m,\u001b[38;5;241m98\u001b[39m,\u001b[38;5;241m32\u001b[39m,\u001b[38;5;241m789\u001b[39m]\n\u001b[1;32m----> 3\u001b[0m final_list \u001b[38;5;241m=\u001b[39m \u001b[38;5;28mlist\u001b[39m(\u001b[38;5;28mfilter\u001b[39m(\u001b[38;5;28;01mlambda\u001b[39;00m x: (x\u001b[38;5;241m%\u001b[39m\u001b[38;5;241m2\u001b[39m \u001b[38;5;241m!=\u001b[39m \u001b[38;5;241m0\u001b[39m) ))\n",
      "\u001b[1;31mTypeError\u001b[0m: filter expected 2 arguments, got 1"
     ]
    }
   ],
   "source": [
    "#2\n",
    "\n",
    "l1 = [4,765,43,9868,643,908,2,98,32,789]\n",
    "\n",
    "final_list = list(filter(lambda x: (x%2 != 0) ))"
   ]
  },
  {
   "cell_type": "code",
   "execution_count": 36,
   "id": "148fa826",
   "metadata": {},
   "outputs": [],
   "source": [
    "#3\n",
    "\n",
    "l1 = [4,765,43,9868,643,908,2,98,32,789]\n",
    "\n",
    "final_list = list(filter(lambda x: (x%2 != 0) ,l1))"
   ]
  },
  {
   "cell_type": "code",
   "execution_count": 37,
   "id": "ae6451ba",
   "metadata": {},
   "outputs": [
    {
     "data": {
      "text/plain": [
       "[765, 43, 643, 789]"
      ]
     },
     "execution_count": 37,
     "metadata": {},
     "output_type": "execute_result"
    }
   ],
   "source": [
    "final_list"
   ]
  },
  {
   "cell_type": "code",
   "execution_count": 38,
   "id": "97fa1c49",
   "metadata": {},
   "outputs": [],
   "source": [
    "# MAP function with lambda\n",
    "\n",
    "#1\n",
    "\n",
    "l1 = [1,2,3,4,5,6,7]\n",
    "\n",
    "final_map_list = list(map(lambda x: x*2, l1))"
   ]
  },
  {
   "cell_type": "code",
   "execution_count": 39,
   "id": "c5b1be34",
   "metadata": {},
   "outputs": [
    {
     "data": {
      "text/plain": [
       "[2, 4, 6, 8, 10, 12, 14]"
      ]
     },
     "execution_count": 39,
     "metadata": {},
     "output_type": "execute_result"
    }
   ],
   "source": [
    "final_map_list"
   ]
  },
  {
   "cell_type": "code",
   "execution_count": 40,
   "id": "f943aac8",
   "metadata": {},
   "outputs": [],
   "source": [
    "#2\n",
    "\n",
    "l1 = [1,2,3,4,5,6,7]\n",
    "\n",
    "final_map_list = list(map(lambda x: x/2, l1))"
   ]
  },
  {
   "cell_type": "code",
   "execution_count": 41,
   "id": "e5568ace",
   "metadata": {},
   "outputs": [
    {
     "data": {
      "text/plain": [
       "[0.5, 1.0, 1.5, 2.0, 2.5, 3.0, 3.5]"
      ]
     },
     "execution_count": 41,
     "metadata": {},
     "output_type": "execute_result"
    }
   ],
   "source": [
    "final_map_list\n"
   ]
  },
  {
   "cell_type": "code",
   "execution_count": 42,
   "id": "2b70c2e5",
   "metadata": {},
   "outputs": [],
   "source": [
    "#3\n",
    "\n",
    "l1 = [1,2,3,4,5,6,7]\n",
    "\n",
    "final_map_list = list(map(lambda x: x%2, l1))"
   ]
  },
  {
   "cell_type": "code",
   "execution_count": 35,
   "id": "cf377032",
   "metadata": {},
   "outputs": [
    {
     "data": {
      "text/plain": [
       "[1, 0, 1, 0, 1, 0, 1]"
      ]
     },
     "execution_count": 35,
     "metadata": {},
     "output_type": "execute_result"
    }
   ],
   "source": [
    "final_map_list\n"
   ]
  },
  {
   "cell_type": "code",
   "execution_count": null,
   "id": "883cea90",
   "metadata": {},
   "outputs": [],
   "source": []
  },
  {
   "cell_type": "code",
   "execution_count": 53,
   "id": "778f95cd",
   "metadata": {},
   "outputs": [],
   "source": [
    "# REDUCE function with lambda\n",
    "\n",
    "#1\n",
    "\n",
    "l1 = [1,2,3,4,5]\n",
    "\n",
    "from functools import reduce\n",
    "\n",
    "sum = reduce(lambda x,y: x+y, l1)"
   ]
  },
  {
   "cell_type": "code",
   "execution_count": 54,
   "id": "fc1b3f6b",
   "metadata": {},
   "outputs": [
    {
     "data": {
      "text/plain": [
       "15"
      ]
     },
     "execution_count": 54,
     "metadata": {},
     "output_type": "execute_result"
    }
   ],
   "source": [
    "sum"
   ]
  },
  {
   "cell_type": "code",
   "execution_count": 61,
   "id": "094b92d6",
   "metadata": {},
   "outputs": [],
   "source": [
    "#2\n",
    "\n",
    "l2 = [10,20,30,40,50]\n",
    "\n",
    "from functools import reduce\n",
    "\n",
    "product = reduce(lambda u,v: u*v, l2)"
   ]
  },
  {
   "cell_type": "code",
   "execution_count": 62,
   "id": "988b685f",
   "metadata": {},
   "outputs": [
    {
     "data": {
      "text/plain": [
       "12000000"
      ]
     },
     "execution_count": 62,
     "metadata": {},
     "output_type": "execute_result"
    }
   ],
   "source": [
    "product"
   ]
  },
  {
   "cell_type": "code",
   "execution_count": null,
   "id": "348629da",
   "metadata": {},
   "outputs": [],
   "source": []
  }
 ],
 "metadata": {
  "kernelspec": {
   "display_name": "Python 3 (ipykernel)",
   "language": "python",
   "name": "python3"
  },
  "language_info": {
   "codemirror_mode": {
    "name": "ipython",
    "version": 3
   },
   "file_extension": ".py",
   "mimetype": "text/x-python",
   "name": "python",
   "nbconvert_exporter": "python",
   "pygments_lexer": "ipython3",
   "version": "3.11.4"
  }
 },
 "nbformat": 4,
 "nbformat_minor": 5
}
