{
 "cells": [
  {
   "cell_type": "code",
   "execution_count": null,
   "id": "8038ace9",
   "metadata": {},
   "outputs": [],
   "source": [
    "#While Loop\n",
    "\n",
    "\n"
   ]
  },
  {
   "cell_type": "code",
   "execution_count": 26,
   "id": "0dab85b3",
   "metadata": {},
   "outputs": [],
   "source": [
    "i = 1"
   ]
  },
  {
   "cell_type": "code",
   "execution_count": 27,
   "id": "671709ef",
   "metadata": {},
   "outputs": [
    {
     "name": "stdout",
     "output_type": "stream",
     "text": [
      "1\n",
      "2\n",
      "3\n",
      "4\n",
      "5\n",
      "6\n",
      "7\n",
      "8\n",
      "9\n",
      "10\n"
     ]
    }
   ],
   "source": [
    "while i<=10:\n",
    "    print(i)\n",
    "    i=i+1"
   ]
  },
  {
   "cell_type": "code",
   "execution_count": 28,
   "id": "daddfc8e",
   "metadata": {},
   "outputs": [
    {
     "data": {
      "text/plain": [
       "11"
      ]
     },
     "execution_count": 28,
     "metadata": {},
     "output_type": "execute_result"
    }
   ],
   "source": [
    "i"
   ]
  },
  {
   "cell_type": "code",
   "execution_count": null,
   "id": "0e205b14",
   "metadata": {},
   "outputs": [],
   "source": []
  },
  {
   "cell_type": "code",
   "execution_count": 29,
   "id": "0cd2cdca",
   "metadata": {},
   "outputs": [],
   "source": [
    "#print table\n"
   ]
  },
  {
   "cell_type": "code",
   "execution_count": 37,
   "id": "1e6b9521",
   "metadata": {},
   "outputs": [],
   "source": [
    "i=1\n",
    "n=5"
   ]
  },
  {
   "cell_type": "code",
   "execution_count": 38,
   "id": "cc283225",
   "metadata": {},
   "outputs": [
    {
     "name": "stdout",
     "output_type": "stream",
     "text": [
      "5 * 1 = 5\n",
      "5 * 2 = 10\n",
      "5 * 3 = 15\n",
      "5 * 4 = 20\n",
      "5 * 5 = 25\n",
      "5 * 6 = 30\n",
      "5 * 7 = 35\n",
      "5 * 8 = 40\n",
      "5 * 9 = 45\n",
      "5 * 10 = 50\n"
     ]
    }
   ],
   "source": [
    "while i<=10:\n",
    "    print(n,\"*\",i,\"=\",n*i)\n",
    "    i=i+1"
   ]
  },
  {
   "cell_type": "code",
   "execution_count": 56,
   "id": "4fa3657e",
   "metadata": {},
   "outputs": [],
   "source": [
    "#while loop with list\n",
    "\n",
    "l1=[1,2,3,5,4]\n",
    "i=0\n",
    "while i<len(l1):\n",
    "    l1[i]=l1[i]*100\n",
    "    i=i+1"
   ]
  },
  {
   "cell_type": "code",
   "execution_count": 57,
   "id": "f1d749f8",
   "metadata": {},
   "outputs": [
    {
     "data": {
      "text/plain": [
       "[100, 200, 300, 500, 400]"
      ]
     },
     "execution_count": 57,
     "metadata": {},
     "output_type": "execute_result"
    }
   ],
   "source": [
    "l1"
   ]
  },
  {
   "cell_type": "code",
   "execution_count": 59,
   "id": "6e563341",
   "metadata": {},
   "outputs": [
    {
     "data": {
      "text/plain": [
       "5"
      ]
     },
     "execution_count": 59,
     "metadata": {},
     "output_type": "execute_result"
    }
   ],
   "source": [
    "len(l1)"
   ]
  },
  {
   "cell_type": "code",
   "execution_count": 60,
   "id": "7c73dd1b",
   "metadata": {},
   "outputs": [],
   "source": [
    "# for loop \n",
    "\n"
   ]
  },
  {
   "cell_type": "code",
   "execution_count": 62,
   "id": "8a3eabe6",
   "metadata": {},
   "outputs": [
    {
     "name": "stdout",
     "output_type": "stream",
     "text": [
      "mango\n",
      "orange\n",
      "banana\n",
      "grapes\n"
     ]
    }
   ],
   "source": [
    "# print the list in sequence\n",
    "\n",
    "l1 = [\"mango\",\"orange\",\"banana\",\"grapes\"]\n",
    "\n",
    "for i in l1:\n",
    "    print(i)"
   ]
  },
  {
   "cell_type": "code",
   "execution_count": null,
   "id": "6119b51d",
   "metadata": {},
   "outputs": [],
   "source": []
  },
  {
   "cell_type": "code",
   "execution_count": 66,
   "id": "123a1db8",
   "metadata": {},
   "outputs": [
    {
     "name": "stdout",
     "output_type": "stream",
     "text": [
      "mango pen\n",
      "mango paper\n",
      "mango bag\n",
      "orange pen\n",
      "orange paper\n",
      "orange bag\n",
      "banana pen\n",
      "banana paper\n",
      "banana bag\n",
      "grapes pen\n",
      "grapes paper\n",
      "grapes bag\n"
     ]
    }
   ],
   "source": [
    "#multiple for loops/ Nested for loops\n",
    "\n",
    "l1 =  [\"mango\",\"orange\",\"banana\",\"grapes\"]\n",
    "l2 = [\"pen\",\"paper\",\"bag\"]\n",
    "\n",
    "for i in l1:\n",
    "    for j in l2:\n",
    "        print(i,j)\n",
    "        "
   ]
  },
  {
   "cell_type": "code",
   "execution_count": 69,
   "id": "3adc2b6d",
   "metadata": {},
   "outputs": [
    {
     "name": "stdout",
     "output_type": "stream",
     "text": [
      "mango pen\n",
      "orange pen\n",
      "banana pen\n",
      "grapes pen\n",
      "mango paper\n",
      "orange paper\n",
      "banana paper\n",
      "grapes paper\n",
      "mango bag\n",
      "orange bag\n",
      "banana bag\n",
      "grapes bag\n"
     ]
    }
   ],
   "source": [
    "l2 =  [\"mango\",\"orange\",\"banana\",\"grapes\"]\n",
    "l1 = [\"pen\",\"paper\",\"bag\"]\n",
    "\n",
    "for i in l1:\n",
    "    for j in l2:\n",
    "        print(j,i)"
   ]
  },
  {
   "cell_type": "code",
   "execution_count": null,
   "id": "86516ef8",
   "metadata": {},
   "outputs": [],
   "source": []
  }
 ],
 "metadata": {
  "kernelspec": {
   "display_name": "Python 3 (ipykernel)",
   "language": "python",
   "name": "python3"
  },
  "language_info": {
   "codemirror_mode": {
    "name": "ipython",
    "version": 3
   },
   "file_extension": ".py",
   "mimetype": "text/x-python",
   "name": "python",
   "nbconvert_exporter": "python",
   "pygments_lexer": "ipython3",
   "version": "3.11.4"
  }
 },
 "nbformat": 4,
 "nbformat_minor": 5
}
