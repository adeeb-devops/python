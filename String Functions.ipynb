{
 "cells": [
  {
   "cell_type": "code",
   "execution_count": 1,
   "id": "c5851a0d",
   "metadata": {},
   "outputs": [],
   "source": [
    "str = \"Hello\""
   ]
  },
  {
   "cell_type": "code",
   "execution_count": 2,
   "id": "ea952a6f",
   "metadata": {},
   "outputs": [
    {
     "data": {
      "text/plain": [
       "5"
      ]
     },
     "execution_count": 2,
     "metadata": {},
     "output_type": "execute_result"
    }
   ],
   "source": [
    "#length\n",
    "len(str)"
   ]
  },
  {
   "cell_type": "code",
   "execution_count": 3,
   "id": "facc89fd",
   "metadata": {},
   "outputs": [
    {
     "data": {
      "text/plain": [
       "'Mello'"
      ]
     },
     "execution_count": 3,
     "metadata": {},
     "output_type": "execute_result"
    }
   ],
   "source": [
    "#Replacing\n",
    "str.replace('H','M')"
   ]
  },
  {
   "cell_type": "code",
   "execution_count": 5,
   "id": "be06768d",
   "metadata": {},
   "outputs": [
    {
     "data": {
      "text/plain": [
       "'hello'"
      ]
     },
     "execution_count": 5,
     "metadata": {},
     "output_type": "execute_result"
    }
   ],
   "source": [
    "#Lowercase\n",
    "str.lower()"
   ]
  },
  {
   "cell_type": "code",
   "execution_count": 6,
   "id": "12e1af3e",
   "metadata": {},
   "outputs": [
    {
     "data": {
      "text/plain": [
       "'HELLO'"
      ]
     },
     "execution_count": 6,
     "metadata": {},
     "output_type": "execute_result"
    }
   ],
   "source": [
    "#Uppercase\n",
    "str.upper()"
   ]
  },
  {
   "cell_type": "code",
   "execution_count": 7,
   "id": "44c55b20",
   "metadata": {},
   "outputs": [
    {
     "data": {
      "text/plain": [
       "str"
      ]
     },
     "execution_count": 7,
     "metadata": {},
     "output_type": "execute_result"
    }
   ],
   "source": [
    "#type\n",
    "type(str)"
   ]
  },
  {
   "cell_type": "code",
   "execution_count": 8,
   "id": "4a94caec",
   "metadata": {},
   "outputs": [
    {
     "data": {
      "text/plain": [
       "5"
      ]
     },
     "execution_count": 8,
     "metadata": {},
     "output_type": "execute_result"
    }
   ],
   "source": [
    "#Counting\n",
    "str=\"count the words the the the the\"\n",
    "str.count('the')"
   ]
  },
  {
   "cell_type": "code",
   "execution_count": 10,
   "id": "0fa53f4d",
   "metadata": {},
   "outputs": [
    {
     "data": {
      "text/plain": [
       "6"
      ]
     },
     "execution_count": 10,
     "metadata": {},
     "output_type": "execute_result"
    }
   ],
   "source": [
    "#Finding the Index\n",
    "str=\"count the words the the the the\"\n",
    "str.find('the')"
   ]
  },
  {
   "cell_type": "code",
   "execution_count": 16,
   "id": "149afd92",
   "metadata": {},
   "outputs": [
    {
     "data": {
      "text/plain": [
       "['I like apple', 'mangoes', 'banana']"
      ]
     },
     "execution_count": 16,
     "metadata": {},
     "output_type": "execute_result"
    }
   ],
   "source": [
    "#Splitting\n",
    "str = \"I like apple,mangoes,banana\"\n",
    "str.split(\",\")"
   ]
  },
  {
   "cell_type": "code",
   "execution_count": null,
   "id": "5f34bc8f",
   "metadata": {},
   "outputs": [],
   "source": []
  }
 ],
 "metadata": {
  "kernelspec": {
   "display_name": "Python 3 (ipykernel)",
   "language": "python",
   "name": "python3"
  },
  "language_info": {
   "codemirror_mode": {
    "name": "ipython",
    "version": 3
   },
   "file_extension": ".py",
   "mimetype": "text/x-python",
   "name": "python",
   "nbconvert_exporter": "python",
   "pygments_lexer": "ipython3",
   "version": "3.11.4"
  }
 },
 "nbformat": 4,
 "nbformat_minor": 5
}
